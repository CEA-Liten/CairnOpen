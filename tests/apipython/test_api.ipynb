{
 "cells": [
  {
   "cell_type": "code",
   "execution_count": 1,
   "id": "8afe03db-0eba-4356-8f18-31e1f27b5dbe",
   "metadata": {},
   "outputs": [],
   "source": [
    "import shutil\n",
    "import os\n",
    "import pandas as pd\n",
    "import numpy as np"
   ]
  },
  {
   "cell_type": "markdown",
   "id": "bd69ade7-2981-4ec9-85c0-ff09981718e8",
   "metadata": {},
   "source": [
    "## Environment"
   ]
  },
  {
   "cell_type": "code",
   "execution_count": 3,
   "id": "20eb1384-1873-4551-b65e-ca1e652d8082",
   "metadata": {},
   "outputs": [
    {
     "ename": "ModuleNotFoundError",
     "evalue": "No module named 'cairn'",
     "output_type": "error",
     "traceback": [
      "\u001b[1;31m---------------------------------------------------------------------------\u001b[0m",
      "\u001b[1;31mModuleNotFoundError\u001b[0m                       Traceback (most recent call last)",
      "Cell \u001b[1;32mIn[3], line 5\u001b[0m\n\u001b[0;32m      2\u001b[0m \u001b[38;5;28;01mimport\u001b[39;00m\u001b[38;5;250m \u001b[39m\u001b[38;5;21;01mos\u001b[39;00m\n\u001b[0;32m      4\u001b[0m app_home \u001b[38;5;241m=\u001b[39m os\u001b[38;5;241m.\u001b[39mgetcwd()\n\u001b[1;32m----> 5\u001b[0m \u001b[38;5;28;01mfrom\u001b[39;00m\u001b[38;5;250m \u001b[39m\u001b[38;5;21;01mcairn\u001b[39;00m\u001b[38;5;250m \u001b[39m\u001b[38;5;28;01mimport\u001b[39;00m \u001b[38;5;241m*\u001b[39m\n\u001b[0;32m      7\u001b[0m \u001b[38;5;66;03m# préparation du répertoire pour la simulation\u001b[39;00m\n\u001b[0;32m      8\u001b[0m simuPath \u001b[38;5;241m=\u001b[39m os\u001b[38;5;241m.\u001b[39mpath\u001b[38;5;241m.\u001b[39mjoin(app_home, \u001b[38;5;124m'\u001b[39m\u001b[38;5;124m./results/simuPython\u001b[39m\u001b[38;5;124m'\u001b[39m)\n",
      "\u001b[1;31mModuleNotFoundError\u001b[0m: No module named 'cairn'"
     ]
    }
   ],
   "source": [
    "import shutil\n",
    "import os\n",
    "\n",
    "app_home = os.getcwd()\n",
    "from cairn import *\n",
    "\n",
    "# préparation du répertoire pour la simulation\n",
    "simuPath = os.path.join(app_home, './results/simuPython')\n",
    "dataPath = os.path.join(app_home, './data')\n",
    "\n",
    "if os.path.exists(simuPath):\n",
    "\tshutil.rmtree(simuPath)\n",
    "os.makedirs(simuPath)\n",
    "\n",
    "simuFile = 'formation_persee.json'\n",
    "simuFull = os.path.join(simuPath, simuFile)\n",
    "shutil.copy(os.path.join(dataPath, simuFile), simuFull)\n",
    "\n",
    "cairn_instance = CairnAPI(True)"
   ]
  },
  {
   "cell_type": "markdown",
   "id": "1f5a59b1-1218-4b71-b25f-ebd818fb4894",
   "metadata": {},
   "source": [
    "## CairnAPI\n",
    "CairnAPI allows the user to create a study, or to read an existing study.\n",
    "\n",
    "CairnAPI is the main instance where the user can know generic information about Cairn such as the available models (components), the available solvers, and the possible carrier (EnergyVector) types."
   ]
  },
  {
   "cell_type": "code",
   "execution_count": 3,
   "id": "37ef398a-f14c-4bcf-99f1-69751b0e3694",
   "metadata": {},
   "outputs": [
    {
     "name": "stdout",
     "output_type": "stream",
     "text": [
      "Components available: \n",
      "NodeLaw, NodeEquality, Electrolyzer, PipelineBasic, ThermalGroup, ProductionUC\n",
      "Cogeneration, FuelCell, Dam, Mixer, Transportation, NeuralNetwork\n",
      "HeatPump, SMReformer, Methaner, Methanizer, Compressor, Converter\n",
      "MultiConverter, HeatExchange, PowerToFluidT, PowerToFluidH, Cluster, GridFree\n",
      "MultiObjective, RampModel, MinStateTime, ConstantProduction, HeatEquation, HeatExchangeEquation\n",
      "SourceLoad, SourceLoadFlexible, SourceLoadMinMax, BuildingFlexibleBasic, BuildingFlexible, StorageGen\n",
      "StorageLinearBounds, StorageThermal, Battery_V1, ElectrolyzerDetailed, GridFCRService, GridaFRRService\n",
      "StorageSeasonal\n"
     ]
    }
   ],
   "source": [
    "print(\"Components available: \")\n",
    "for i in range(0, len(cairn_instance.all_models), 6):\n",
    "        chunk = cairn_instance.all_models[i:i + 6]\n",
    "        print(', '.join(map(str, chunk)))"
   ]
  },
  {
   "cell_type": "code",
   "execution_count": 4,
   "id": "f2b05b28-dc3f-44c1-bc8d-7809cddd6ca6",
   "metadata": {},
   "outputs": [
    {
     "name": "stdout",
     "output_type": "stream",
     "text": [
      "Solvers available: \n",
      "\n"
     ]
    }
   ],
   "source": [
    "print(\"Solvers available: \")\n",
    "print(', '.join(cairn_instance.solvers))"
   ]
  },
  {
   "cell_type": "code",
   "execution_count": 5,
   "id": "b4398146",
   "metadata": {},
   "outputs": [
    {
     "name": "stdout",
     "output_type": "stream",
     "text": [
      "Possible carrier types: \n",
      "Electrical, Thermal, FluidH2, FluidCH4, Fluid, Material\n"
     ]
    }
   ],
   "source": [
    "print(\"Possible carrier types: \")\n",
    "print(', '.join(cairn_instance.carrier_types))"
   ]
  },
  {
   "cell_type": "markdown",
   "id": "b7c184bc-8adc-4a4a-89cc-9bfc4063378a",
   "metadata": {},
   "source": [
    "## Model Reading\n",
    "Below an example of opening an existing study (.json file) and loading a .csv timeseries file (mandatory to run a simulation)"
   ]
  },
  {
   "cell_type": "code",
   "execution_count": 6,
   "id": "2eb12165-2c75-4073-a167-4a982044473e",
   "metadata": {},
   "outputs": [
    {
     "name": "stdout",
     "output_type": "stream",
     "text": [
      "D:\\Users\\SC258201\\GitPersee\\PerseeGui\\lib\\export\\Persee\\Test_API\\python\\../results/simuPython\\formation_persee.json\n"
     ]
    },
    {
     "ename": "RuntimeError",
     "evalue": "Unknown exception",
     "output_type": "error",
     "traceback": [
      "\u001b[1;31m---------------------------------------------------------------------------\u001b[0m",
      "\u001b[1;31mRuntimeError\u001b[0m                              Traceback (most recent call last)",
      "Cell \u001b[1;32mIn[6], line 3\u001b[0m\n\u001b[0;32m      1\u001b[0m \u001b[38;5;66;03m# Run Persee\u001b[39;00m\n\u001b[0;32m      2\u001b[0m \u001b[38;5;28mprint\u001b[39m(simuFull)\n\u001b[1;32m----> 3\u001b[0m problem \u001b[38;5;241m=\u001b[39m \u001b[43mpersee_instance\u001b[49m\u001b[38;5;241;43m.\u001b[39;49m\u001b[43mread_study\u001b[49m\u001b[43m(\u001b[49m\u001b[43msimuFull\u001b[49m\u001b[43m)\u001b[49m\n\u001b[0;32m      5\u001b[0m problem\u001b[38;5;241m.\u001b[39madd_timeseries(os\u001b[38;5;241m.\u001b[39mpath\u001b[38;5;241m.\u001b[39mjoin(dataPath, \u001b[38;5;124m'\u001b[39m\u001b[38;5;124mformation_persee_dataseries.csv\u001b[39m\u001b[38;5;124m'\u001b[39m))\n",
      "\u001b[1;31mRuntimeError\u001b[0m: Unknown exception"
     ]
    }
   ],
   "source": [
    "# Run Persee\n",
    "print(simuFull)\n",
    "problem = cairn_instance.read_study(simuFull)\n",
    "\n",
    "problem.add_timeseries(os.path.join(dataPath, 'formation_persee_dataseries.csv'))\n"
   ]
  },
  {
   "cell_type": "markdown",
   "id": "ce168461-a48f-4ff9-b83a-5d0227ea90be",
   "metadata": {},
   "source": [
    "## Parameters Reading\n",
    "\n",
    "The user can get all the EnergyVectors configured in the study and read through all the settings. \n"
   ]
  },
  {
   "cell_type": "code",
   "execution_count": 31,
   "id": "73b21f47-8acc-432d-a4c5-4cbba8c49c9c",
   "metadata": {},
   "outputs": [
    {
     "name": "stdout",
     "output_type": "stream",
     "text": [
      "ElectricityDistrib is an EnergyVector of type Electrical\n",
      "ElectricityDistrib settings:\n",
      "EnergyName, EnergyUnit, FlowrateUnit, FluxName, FluxUnit, IsFuelCarrier, IsHeatCarrier, IsMassCarrier\n",
      "MassUnit, PeakUnit, PotentialName, PotentialUnit, PowerName, PowerUnit, StorageName, StorageUnit\n",
      "SurfaceUnit, Type, Xpos, Ypos, id, BuyPrice, CP, GHV\n",
      "LHV, Potential, RHO, SellPrice, UseProfileBuyPrice, UseProfileBuyPriceSeasonal, UseProfileSellPrice\n",
      "\n",
      "ElectricityDistrib mandatory settings:\n",
      "EnergyUnit, FlowrateUnit, MassUnit, PeakUnit, PowerUnit, SurfaceUnit, id, BuyPrice, Potential\n",
      "SellPrice\n",
      "\n",
      "With the value of each setting:\n",
      "BuyPrice : 0.0\n",
      "CP : 0.0\n",
      "EnergyName : Energy\n",
      "EnergyUnit : MWh\n",
      "FlowrateUnit : kg/h\n",
      "FluxName : ElectricalPower\n",
      "FluxUnit : MW\n",
      "GHV : 0.0\n",
      "IsFuelCarrier : 0\n",
      "IsHeatCarrier : 0\n",
      "IsMassCarrier : 0\n",
      "LHV : 1.0\n",
      "MassUnit : kg\n",
      "PeakUnit : MWc\n",
      "Potential : 220.0\n",
      "PotentialName : Voltage\n",
      "PotentialUnit : V\n",
      "PowerName : Power\n",
      "PowerUnit : MW\n",
      "RHO : 0.0\n",
      "SellPrice : 0.0\n",
      "StorageName : ElectricalEnergy\n",
      "StorageUnit : MWh\n",
      "SurfaceUnit : m2\n",
      "Type : Electrical\n",
      "UseProfileBuyPrice : Elec_Grid.ElectricityPrice\n",
      "UseProfileBuyPriceSeasonal : \n",
      "UseProfileSellPrice : \n",
      "Xpos : 330\n",
      "Ypos : 4\n",
      "id : ElectricityDistrib\n",
      "\n",
      "Retrieving the value of one particular parameter:\n",
      "Is fuel carrier? 0\n",
      "\n",
      "H2 is an EnergyVector of type FluidH2\n",
      "H2 settings:\n",
      "EnergyName, EnergyUnit, FlowrateUnit, FluxName, FluxUnit, IsFuelCarrier, IsHeatCarrier, IsMassCarrier\n",
      "MassUnit, PeakUnit, PotentialName, PotentialUnit, PowerName, PowerUnit, StorageName, StorageUnit\n",
      "SurfaceUnit, Type, Xpos, Ypos, id, BuyPrice, CP, GHV\n",
      "LHV, Potential, RHO, SellPrice, UseProfileBuyPrice, UseProfileBuyPriceSeasonal, UseProfileSellPrice\n",
      "\n",
      "H2 mandatory settings:\n",
      "EnergyUnit, FlowrateUnit, MassUnit, PeakUnit, PowerUnit, SurfaceUnit, id, BuyPrice, Potential\n",
      "SellPrice\n",
      "\n",
      "With the value of each setting:\n",
      "BuyPrice : 0.0\n",
      "CP : 0.0\n",
      "EnergyName : Energy\n",
      "EnergyUnit : MWh\n",
      "FlowrateUnit : kg/h\n",
      "FluxName : FluidH2Flowrate\n",
      "FluxUnit : kg/h\n",
      "GHV : 0.0\n",
      "IsFuelCarrier : 1\n",
      "IsHeatCarrier : 0\n",
      "IsMassCarrier : 1\n",
      "LHV : 0.03332\n",
      "MassUnit : kg\n",
      "PeakUnit : MWc\n",
      "Potential : 30.0\n",
      "PotentialName : Pressure\n",
      "PotentialUnit : bar\n",
      "PowerName : Power\n",
      "PowerUnit : MW\n",
      "RHO : 0.0899\n",
      "SellPrice : 0.0\n",
      "StorageName : FluidH2Mass\n",
      "StorageUnit : kg\n",
      "SurfaceUnit : m2\n",
      "Type : FluidH2\n",
      "UseProfileBuyPrice : \n",
      "UseProfileBuyPriceSeasonal : \n",
      "UseProfileSellPrice : \n",
      "Xpos : 254\n",
      "Ypos : 4\n",
      "id : H2\n",
      "\n",
      "Retrieving the value of one particular parameter:\n",
      "Is fuel carrier? 1\n",
      "\n"
     ]
    }
   ],
   "source": [
    "listEV = problem.energy_carriers\n",
    "for EVname in listEV:\n",
    "    EV = problem.get_energy_carrier(EVname)\n",
    "    print(f\"{EV.name} is an EnergyVector of type {EV.type}\")\n",
    "    print(f\"{EV.name} settings:\")\n",
    "    for i in range(0, len(EV.settings()), 8):\n",
    "        chunk = EV.settings()[i:i + 8]\n",
    "        print(', '.join(map(str, chunk)))\n",
    "    print(\"\")\n",
    "    print(f\"{EV.name} mandatory settings:\")\n",
    "    for i in range(0, len(EV.settings(CairnAPI.ESettingsLimited.mandatory)), 9):\n",
    "        chunk = EV.settings(CairnAPI.ESettingsLimited.mandatory)[i:i + 9]\n",
    "        print(', '.join(map(str, chunk)))\n",
    "    print(\"\")\n",
    "    print(\"With the value of each setting:\")\n",
    "    setEV = EV.setting_values\n",
    "    for i in setEV:\n",
    "        print(f\"{i} : {setEV[i]}\")\n",
    "    print(\"\")\n",
    "    print(\"Retrieving the value of one particular parameter:\")\n",
    "    value = EV.get_setting_value(\"IsFuelCarrier\")\n",
    "    print(f\"Is fuel carrier? {value}\")\n",
    "    print(\"\")\n",
    "    "
   ]
  },
  {
   "cell_type": "markdown",
   "id": "506ea2f9-b541-47ca-9716-961eb410d490",
   "metadata": {},
   "source": [
    "Similarly, the user can do the same for the Buses and components"
   ]
  },
  {
   "cell_type": "code",
   "execution_count": 16,
   "id": "d891f98a",
   "metadata": {},
   "outputs": [
    {
     "name": "stdout",
     "output_type": "stream",
     "text": [
      "['Elec_Bus', 'H2_Bus']\n"
     ]
    }
   ],
   "source": [
    "list_bus = problem.buses\n",
    "print(list_bus)"
   ]
  },
  {
   "cell_type": "code",
   "execution_count": 17,
   "id": "5e47ec16-b3f4-4afc-94ed-32330fdac0a9",
   "metadata": {},
   "outputs": [
    {
     "name": "stdout",
     "output_type": "stream",
     "text": [
      "['Elec_Grid', 'Elec_Grid_Inject', 'H2_Load', 'Wind_farm', 'ELY_PEM', 'H2_Tank']\n"
     ]
    }
   ],
   "source": [
    "list_compo = problem.get_components()\n",
    "print(list_compo)"
   ]
  },
  {
   "cell_type": "markdown",
   "id": "7fbc478c",
   "metadata": {},
   "source": [
    "Example for ELY_PEM component"
   ]
  },
  {
   "cell_type": "code",
   "execution_count": 18,
   "id": "f02e407b-4a3a-490f-95d5-189b1caf4d1d",
   "metadata": {},
   "outputs": [
    {
     "name": "stdout",
     "output_type": "stream",
     "text": [
      "ELY_PEM\n",
      "                                                      0\n",
      "Acidification#Accumulated Exceedance EnvGreyCon...  0.0\n",
      "Acidification#Accumulated Exceedance EnvGreyCon...  0.0\n",
      "Acidification#Accumulated Exceedance EnvGreyRep...  0.0\n",
      "Acidification#Accumulated Exceedance EnvGreyRep...  0.0\n",
      "Acidification#Accumulated Exceedance PiecewiseE...    0\n",
      "...                                                 ...\n",
      "Weight                                              1.0\n",
      "WeightUnit                                            -\n",
      "Xpos                                                480\n",
      "Ypos                                                234\n",
      "submodelfile                                           \n",
      "\n",
      "[81 rows x 1 columns]\n",
      "\n",
      "Retrieving the value of a given parameter:\n",
      "Capex : 480000.0\n"
     ]
    }
   ],
   "source": [
    "compo = problem.get_component(\"ELY_PEM\")\n",
    "print(compo.name)\n",
    "df = pd.DataFrame.from_dict(compo.setting_values, orient='index')\n",
    "print(df)\n",
    "print(\"\")\n",
    "print(\"Retrieving the value of a given parameter:\")\n",
    "value = compo.get_setting_value(\"Capex\")\n",
    "print(f\"Capex : {value}\")"
   ]
  },
  {
   "cell_type": "markdown",
   "id": "3ab52d7a-5dd8-4181-9ca5-f9f98a8e0ef0",
   "metadata": {},
   "source": [
    "Note, the user can modify the parameters of a Bus or a componenet using compo.setting_values = dict{paramName: paramValue}.\n",
    "\n",
    "Finally, the user can see the links created in the study"
   ]
  },
  {
   "cell_type": "code",
   "execution_count": 19,
   "id": "9692eaa3-983d-42b5-9b75-983225cba503",
   "metadata": {},
   "outputs": [
    {
     "name": "stdout",
     "output_type": "stream",
     "text": [
      "{'ELY_PEM.PortL0': 'Elec_Bus', 'ELY_PEM.PortR0': 'H2_Bus', 'Elec_Grid.PortR0': 'Elec_Bus', 'Elec_Grid_Inject.PortL0': 'Elec_Bus', 'H2_Load.PortL0': 'H2_Bus', 'H2_Tank.PortL0': 'H2_Bus', 'Wind_farm.PortR0': 'Elec_Bus'}\n"
     ]
    }
   ],
   "source": [
    "list_links = problem.links\n",
    "print(list_links)"
   ]
  },
  {
   "cell_type": "markdown",
   "id": "96f61552-617c-441f-9727-b60193f56afa",
   "metadata": {},
   "source": [
    "## Modifying Problem"
   ]
  },
  {
   "cell_type": "markdown",
   "id": "162918b1-6568-4287-a1c1-eac3cb466795",
   "metadata": {},
   "source": [
    "The following example shows how to create a component. To create a component the user has to provide a component name and a component model from the list of possible models (given by persee_instance.all_models). The user can choose any name, but two componenets cannot have the same name."
   ]
  },
  {
   "cell_type": "code",
   "execution_count": 20,
   "id": "ddfae563-4dad-4dbc-8480-96af0ac359cf",
   "metadata": {},
   "outputs": [],
   "source": [
    "myPV = Component(\"PV\", \"SourceLoad\")"
   ]
  },
  {
   "cell_type": "markdown",
   "id": "7f419586-7738-4621-be78-83c1339be01d",
   "metadata": {},
   "source": [
    "Similarly, the user can crate an EnergyVector by providing an EnergyVector name (any unique name) and a carrier type (from persee_instance.carrier_types). Note, to create a Bus, the user has to additionally provide an EnergyVector (the object, not the name) as a 3rd argument. Available Bus models are NodeLaw, NodeEquality and MultiObjective. \n",
    "\n",
    "A component can be configured by modifying its parameters as follows:"
   ]
  },
  {
   "cell_type": "code",
   "execution_count": 21,
   "id": "1b9e2e8b-ad80-47d7-a72d-605371aa5518",
   "metadata": {},
   "outputs": [],
   "source": [
    "myPV.set_setting_value(\"Capex\", 1000)"
   ]
  },
  {
   "cell_type": "code",
   "execution_count": 22,
   "id": "50aa101d-498a-4683-a7c7-38973cc59ec2",
   "metadata": {},
   "outputs": [],
   "source": [
    "myPV.setting_values = {\n",
    "\t\t\"Direction\": \"Source\" ,\n",
    "\t\t\"Weight\": 1,\n",
    "\t\t\"Opex\": 0 ,\n",
    "\t\t\"MaxFlow\": -10,\n",
    "\t\t\"EcoInvestModel\": 1,\n",
    "        \"UseProfileLoadFlux\":\"PVProduction\"\n",
    "\t\t}"
   ]
  },
  {
   "cell_type": "markdown",
   "id": "ad76e763-1796-4be9-8904-e11068adc5ce",
   "metadata": {},
   "source": [
    "It is mandatory to add port(s) to the component in order to connect it to the energy system and in particular to one or several buses previously created"
   ]
  },
  {
   "cell_type": "code",
   "execution_count": 23,
   "id": "9a31222f-c73c-4805-9ce1-75a7c1350f02",
   "metadata": {},
   "outputs": [],
   "source": [
    "elec_carrier=problem.get_energy_carrier(\"ElectricityDistrib\")\n",
    "myPV_R0 = Port(\"PortR0\", elec_carrier)\n",
    "myPV_R0.setting_values = {\n",
    "\t\t\t\t\"Direction\": \"OUTPUT\",\n",
    "\t\t\t\t\"Variable\": \"SourceLoadFlow\"\n",
    "\t\t}"
   ]
  },
  {
   "cell_type": "markdown",
   "id": "37c26788-3f85-46b7-b960-0e143d3a7d9a",
   "metadata": {},
   "source": [
    "Do not forget to add the port(s)"
   ]
  },
  {
   "cell_type": "code",
   "execution_count": 24,
   "id": "88b9fdac-a4b7-43b8-97c1-ef8a8f5f247b",
   "metadata": {},
   "outputs": [],
   "source": [
    "myPV.add_port(myPV_R0)"
   ]
  },
  {
   "cell_type": "markdown",
   "id": "ca2f93b0-71d4-44e1-85f5-4d29866e708e",
   "metadata": {},
   "source": [
    "Before adding the component to the problem"
   ]
  },
  {
   "cell_type": "code",
   "execution_count": 25,
   "id": "16d20fb8-c33a-4ff9-bb5d-09cebe72946a",
   "metadata": {},
   "outputs": [],
   "source": [
    "problem.add_component(myPV)"
   ]
  },
  {
   "cell_type": "markdown",
   "id": "76c58c50-927a-4d78-b786-d756a49d49e0",
   "metadata": {},
   "source": [
    "Then link the component to a bus"
   ]
  },
  {
   "cell_type": "code",
   "execution_count": 26,
   "id": "d0081a87-ad96-4f5d-a4ff-56c03d67517a",
   "metadata": {},
   "outputs": [
    {
     "name": "stdout",
     "output_type": "stream",
     "text": [
      "['Elec_Bus', 'H2_Bus']\n"
     ]
    }
   ],
   "source": [
    "print(problem.buses)\n",
    "elec_bus = problem.get_bus(\"Elec_Bus\")\n",
    "problem.add_link(myPV_R0, elec_bus)"
   ]
  },
  {
   "cell_type": "markdown",
   "id": "70b884f2-3d64-447c-9be0-e93829ce2e4b",
   "metadata": {},
   "source": [
    "## Run a simulation"
   ]
  },
  {
   "cell_type": "code",
   "execution_count": 27,
   "id": "43aa1e54-3750-4642-9022-b2d888c01cc8",
   "metadata": {},
   "outputs": [],
   "source": [
    "problem.save_study(simuFull)\n",
    "sol = problem.run()"
   ]
  },
  {
   "cell_type": "markdown",
   "id": "de504626-6770-42a8-9670-093aa2ced658",
   "metadata": {},
   "source": [
    "## Solutions\n"
   ]
  },
  {
   "cell_type": "markdown",
   "id": "6c42fc83-fc5f-443c-b80d-e097011d19f9",
   "metadata": {},
   "source": [
    "It is then possible to access information about the resolution"
   ]
  },
  {
   "cell_type": "code",
   "execution_count": 28,
   "id": "d01fabc6-74c7-4702-b9f8-87a8291a03e1",
   "metadata": {},
   "outputs": [
    {
     "name": "stdout",
     "output_type": "stream",
     "text": [
      "Optimal\n"
     ]
    }
   ],
   "source": [
    "print(sol.get_status())"
   ]
  },
  {
   "cell_type": "markdown",
   "id": "d26e33b8",
   "metadata": {},
   "source": [
    "Also to access indicators"
   ]
  },
  {
   "cell_type": "code",
   "execution_count": 29,
   "id": "0f93fdf3",
   "metadata": {},
   "outputs": [
    {
     "name": "stdout",
     "output_type": "stream",
     "text": [
      "Use the following method to access the name of all the indicators of a component:\n",
      "['Total Cost Function', 'Capex part', 'is installed', 'Opex part (including energy cost)', 'Pure Opex part', 'Replacement part', 'Mass', 'Area', 'Volume', 'Climate change#Global Warming Potential 100 Env impact penalty part', 'Climate change#Global Warming Potential 100 Env impact mass', 'Climate change#Global Warming Potential 100 EnvGrey impact cost', 'Climate change#Global Warming Potential 100 EnvGrey impact mass', 'Climate change#Global Warming Potential 100 Env grey impact replacement part', 'Acidification#Accumulated Exceedance Env impact penalty part', 'Acidification#Accumulated Exceedance Env impact mass', 'Acidification#Accumulated Exceedance EnvGrey impact cost', 'Acidification#Accumulated Exceedance EnvGrey impact mass', 'Acidification#Accumulated Exceedance Env grey impact replacement part', 'Sum up at', 'Installed Size', 'Running time at power >0.', 'Running time availability', 'CONS Total ElectricalEnergy UsedPower ', 'CONS Levelized Total ElectricalEnergy UsedPower ', 'CONS Mean Total ElectricalPower UsedPower ', 'CONS Total Power Factor UsedPower ', 'Rate of use UsedPower ', 'PROD Total FluidH2Mass H2MassFlowRate ', 'PROD Levelized Total FluidH2Mass H2MassFlowRate ', 'PROD Mean Total FluidH2Flowrate H2MassFlowRate ']\n",
      "\n",
      "You can aslo access directly to the value of an indicator:\n",
      "1957572.0540913767\n",
      "\n",
      "Or even create easily a dataframe of indicators:\n",
      "                                                               0\n",
      "Acidification#Accumulated Exceedance Env grey i...  0.000000e+00\n",
      "Acidification#Accumulated Exceedance Env impact...  0.000000e+00\n",
      "Acidification#Accumulated Exceedance Env impact...  0.000000e+00\n",
      "Acidification#Accumulated Exceedance EnvGrey im...  0.000000e+00\n",
      "Acidification#Accumulated Exceedance EnvGrey im...  0.000000e+00\n",
      "Area                                                0.000000e+00\n",
      "CONS Levelized Total ElectricalEnergy UsedPower    -1.213882e+05\n",
      "CONS Mean Total ElectricalPower UsedPower          -1.892812e+00\n",
      "CONS Total ElectricalEnergy UsedPower              -1.070858e+04\n",
      "CONS Total Power Factor UsedPower                   6.745641e-01\n",
      "Capex part                                          1.346869e+06\n",
      "Climate change#Global Warming Potential 100 Env...  2.805978e+00\n",
      "Climate change#Global Warming Potential 100 Env...  0.000000e+00\n",
      "Climate change#Global Warming Potential 100 Env...  0.000000e+00\n",
      "Climate change#Global Warming Potential 100 Env...  0.000000e+00\n",
      "Climate change#Global Warming Potential 100 Env...  2.805978e+02\n",
      "Installed Size                                      2.805978e+00\n",
      "Mass                                                0.000000e+00\n",
      "Opex part (including energy cost)                   5.387478e+04\n",
      "PROD Levelized Total FluidH2Mass H2MassFlowRate     2.428856e+06\n",
      "PROD Mean Total FluidH2Flowrate H2MassFlowRate      3.787328e+01\n",
      "PROD Total FluidH2Mass H2MassFlowRate               2.142681e+05\n",
      "Pure Opex part                                      5.387478e+04\n",
      "Rate of use UsedPower                               4.356560e-01\n",
      "Replacement part                                    0.000000e+00\n",
      "Running time at power >0.                           5.657500e+03\n",
      "Running time availability                           6.458333e-01\n",
      "Sum up at                                           1.000000e+00\n",
      "Total Cost Function                                 1.957572e+06\n",
      "Volume                                              0.000000e+00\n",
      "is installed                                        1.000000e+00\n"
     ]
    }
   ],
   "source": [
    "ely_pem = problem.get_component(\"ELY_PEM\")\n",
    "print(\"Use the following method to access the name of all the indicators of a component:\")\n",
    "indicators = ely_pem.indicators\n",
    "print(indicators)\n",
    "print(\"\")\n",
    "print(\"You can aslo access directly to the value of an indicator:\")\n",
    "print(ely_pem.get_indicator_value(\"Total Cost Function\", \"PLAN\"))\n",
    "print(\"\")\n",
    "print(\"Or even create easily a dataframe of indicators:\")\n",
    "ind = ely_pem.get_indicators_values(\"PLAN\")\n",
    "df = pd.DataFrame([ind]).transpose()\n",
    "print(df)"
   ]
  },
  {
   "cell_type": "markdown",
   "id": "5c0c70b7",
   "metadata": {},
   "source": [
    "Also to access to the results of Inputs/Outputs of each component"
   ]
  },
  {
   "cell_type": "code",
   "execution_count": 30,
   "id": "c362e885",
   "metadata": {},
   "outputs": [
    {
     "name": "stdout",
     "output_type": "stream",
     "text": [
      "Use the following method to access the name of all the IO expressions of a component:\n",
      "['Acidification#Accumulated Exceedance Env grey impact cost', 'Acidification#Accumulated Exceedance Env grey impact mass', 'Acidification#Accumulated Exceedance Env grey impact replacement part', 'Acidification#Accumulated Exceedance Env impact cost', 'Acidification#Accumulated Exceedance Env impact flow', 'Acidification#Accumulated Exceedance Env impact mass', 'Capex', 'Climate change#Global Warming Potential 100 Env grey impact cost', 'Climate change#Global Warming Potential 100 Env grey impact mass', 'Climate change#Global Warming Potential 100 Env grey impact replacement part', 'Climate change#Global Warming Potential 100 Env impact cost', 'Climate change#Global Warming Potential 100 Env impact flow', 'Climate change#Global Warming Potential 100 Env impact mass', 'H2MassFlowRate', 'MaxPower', 'MaxUsablePower', 'Opex', 'PureOpex', 'Replacement', 'SizeMax', 'State', 'UsedPower', 'VariableCosts', 'isInstalled']\n"
     ]
    }
   ],
   "source": [
    "ely_pem = problem.get_component(\"ELY_PEM\")\n",
    "print(\"Use the following method to access the name of all the IO expressions of a component:\")\n",
    "variables = ely_pem.variables\n",
    "print(variables)"
   ]
  }
 ],
 "metadata": {
  "kernelspec": {
   "display_name": "VirtualPy",
   "language": "python",
   "name": "virtualpy"
  },
  "language_info": {
   "codemirror_mode": {
    "name": "ipython",
    "version": 3
   },
   "file_extension": ".py",
   "mimetype": "text/x-python",
   "name": "python",
   "nbconvert_exporter": "python",
   "pygments_lexer": "ipython3",
   "version": "3.10.9"
  }
 },
 "nbformat": 4,
 "nbformat_minor": 5
}
