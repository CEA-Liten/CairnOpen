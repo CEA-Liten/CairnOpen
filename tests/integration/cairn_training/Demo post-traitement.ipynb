{
 "cells": [
  {
   "cell_type": "markdown",
   "metadata": {},
   "source": [
    "# Files used:\n",
    " Sorties Persee:\n",
    " -----------------\n",
    "- Formation_persee_results_PLAN.csv\n",
    "- TNR/formation_persee_Sortie.csv\n",
    "\n",
    "\n",
    "## Utilisateur:\n",
    "- config_Extract.xml\n"
   ]
  },
  {
   "cell_type": "code",
   "execution_count": 10,
   "metadata": {},
   "outputs": [],
   "source": [
    "import pandas as pd\n",
    "import sys\n",
    "import os\n",
    "\n",
    "sys.path.append(os.path.join(os.getcwd(), \"../../Scripts/\")) # change to locate RunPegaseTests\n",
    "import PerseeDocGen.plotUtilities as pt\n",
    "import PerseeDocGen.GraphWriter as gw\n",
    "import PerseeExtractResult as per\n",
    "import PerseeDocGen.Utilities as ut\n",
    "import shutil"
   ]
  },
  {
   "cell_type": "code",
   "execution_count": null,
   "metadata": {},
   "outputs": [],
   "source": []
  },
  {
   "cell_type": "markdown",
   "metadata": {},
   "source": [
    "## Fichiers utiles et chemins"
   ]
  },
  {
   "cell_type": "code",
   "execution_count": 11,
   "metadata": {},
   "outputs": [],
   "source": [
    "folder_report = os.getcwd()\n",
    "TestCase = \"formation_persee\"\n",
    "file_name=folder_report+\"\\\\\"+TestCase+\"_results_PLAN.csv\"\n",
    "dynamic_csv = TestCase+\"\\\\TNR\\\\\"+TestCase+\"_Sortie.csv\"\n",
    "file_ini_name = folder_report+\"\\\\\"+TestCase+\"_settings.ini\"\n",
    "sumup_name = folder_report+\"\\\\\"+TestCase+\"sumup.csv\"\n",
    "ConfigCase=\"\" # dans le cas de plusieurs sous-scénarios"
   ]
  },
  {
   "cell_type": "markdown",
   "metadata": {},
   "source": [
    "## Création des dossiers Figures et Texparts"
   ]
  },
  {
   "cell_type": "code",
   "execution_count": 12,
   "metadata": {},
   "outputs": [],
   "source": [
    "shutil.rmtree(folder_report+\"\\\\FIGURES\")\n",
    "os.makedirs(folder_report+\"\\\\FIGURES\")\n",
    "shutil.rmtree(folder_report+\"\\\\TEXPARTS\")\n",
    "os.makedirs(folder_report+\"\\\\TEXPARTS\")"
   ]
  },
  {
   "cell_type": "markdown",
   "metadata": {},
   "source": [
    "## Lecture du fichier de propriétés\n",
    "\n",
    "\n"
   ]
  },
  {
   "cell_type": "code",
   "execution_count": 13,
   "metadata": {},
   "outputs": [
    {
     "data": {
      "text/plain": [
       "[{'type': 'PieChart',\n",
       "  'title': 'Cost structure [EUR]',\n",
       "  'search_strings': 'Total Cost',\n",
       "  'threshold': '1.00E+03',\n",
       "  'figlabel': 'FigTotalCostOfformationpersee',\n",
       "  'fig_filename': 'FIGURES/TotalCostOfformation_persee.png',\n",
       "  'fig_fullfilename': 'D:\\\\Users\\\\PP265749\\\\git\\\\PerseeGui\\\\Test_Persee\\\\formation_persee\\\\FIGURES\\\\TotalCostOfformation_persee.png',\n",
       "  'tex_filename': 'TEXPARTS/TotalCostOfformation_persee.tex',\n",
       "  'tex_fullfilename': 'D:\\\\Users\\\\PP265749\\\\git\\\\PerseeGui\\\\Test_Persee\\\\formation_persee\\\\TEXPARTS\\\\TotalCostOfformation_persee.tex'},\n",
       " {'type': 'PieChart',\n",
       "  'title': 'EnvEmission mass [kg]',\n",
       "  'search_strings': 'EnvEmission mass',\n",
       "  'threshold': '1',\n",
       "  'figlabel': 'FigEnvEmissionmassOfformationpersee',\n",
       "  'fig_filename': 'FIGURES/EnvEmissionmassOfformation_persee.png',\n",
       "  'fig_fullfilename': 'D:\\\\Users\\\\PP265749\\\\git\\\\PerseeGui\\\\Test_Persee\\\\formation_persee\\\\FIGURES\\\\EnvEmissionmassOfformation_persee.png',\n",
       "  'tex_filename': 'TEXPARTS/EnvEmissionmassOfformation_persee.tex',\n",
       "  'tex_fullfilename': 'D:\\\\Users\\\\PP265749\\\\git\\\\PerseeGui\\\\Test_Persee\\\\formation_persee\\\\TEXPARTS\\\\EnvEmissionmassOfformation_persee.tex'},\n",
       " {'type': 'PieChart',\n",
       "  'title': 'Electrical / Thermal Storage Capacity [kWh]',\n",
       "  'search_strings': 'Storage Capacity kWh',\n",
       "  'threshold': '1',\n",
       "  'figlabel': 'FigStorageCapacitykWhOfformationpersee',\n",
       "  'fig_filename': 'FIGURES/StorageCapacitykWhOfformation_persee.png',\n",
       "  'fig_fullfilename': 'D:\\\\Users\\\\PP265749\\\\git\\\\PerseeGui\\\\Test_Persee\\\\formation_persee\\\\FIGURES\\\\StorageCapacitykWhOfformation_persee.png',\n",
       "  'tex_filename': 'TEXPARTS/StorageCapacitykWhOfformation_persee.tex',\n",
       "  'tex_fullfilename': 'D:\\\\Users\\\\PP265749\\\\git\\\\PerseeGui\\\\Test_Persee\\\\formation_persee\\\\TEXPARTS\\\\StorageCapacitykWhOfformation_persee.tex'},\n",
       " {'type': 'PieChart',\n",
       "  'title': 'Electrical / Thermal Storage Capacity [MWh]',\n",
       "  'search_strings': 'Storage Capacity MWh',\n",
       "  'threshold': '1',\n",
       "  'figlabel': 'FigStorageCapacityMWhOfformationpersee',\n",
       "  'fig_filename': 'FIGURES/StorageCapacityMWhOfformation_persee.png',\n",
       "  'fig_fullfilename': 'D:\\\\Users\\\\PP265749\\\\git\\\\PerseeGui\\\\Test_Persee\\\\formation_persee\\\\FIGURES\\\\StorageCapacityMWhOfformation_persee.png',\n",
       "  'tex_filename': 'TEXPARTS/StorageCapacityMWhOfformation_persee.tex',\n",
       "  'tex_fullfilename': 'D:\\\\Users\\\\PP265749\\\\git\\\\PerseeGui\\\\Test_Persee\\\\formation_persee\\\\TEXPARTS\\\\StorageCapacityMWhOfformation_persee.tex'},\n",
       " {'type': 'PieChart',\n",
       "  'title': 'Fluid Storage Capacity [kg]',\n",
       "  'search_strings': 'Storage Capacity kg',\n",
       "  'threshold': '1',\n",
       "  'figlabel': 'FigStorageCapacitykgOfformationpersee',\n",
       "  'fig_filename': 'FIGURES/StorageCapacitykgOfformation_persee.png',\n",
       "  'fig_fullfilename': 'D:\\\\Users\\\\PP265749\\\\git\\\\PerseeGui\\\\Test_Persee\\\\formation_persee\\\\FIGURES\\\\StorageCapacitykgOfformation_persee.png',\n",
       "  'tex_filename': 'TEXPARTS/StorageCapacitykgOfformation_persee.tex',\n",
       "  'tex_fullfilename': 'D:\\\\Users\\\\PP265749\\\\git\\\\PerseeGui\\\\Test_Persee\\\\formation_persee\\\\TEXPARTS\\\\StorageCapacitykgOfformation_persee.tex'},\n",
       " {'type': 'PieChart',\n",
       "  'title': 'Electrical / Thermal Storage Optimal Capacity [kWh]',\n",
       "  'search_strings': 'Storage Optimal Capacity kWh',\n",
       "  'threshold': '1',\n",
       "  'figlabel': 'FigStorageOptimalCapacitykWhOfformationpersee',\n",
       "  'fig_filename': 'FIGURES/StorageOptimalCapacitykWhOfformation_persee.png',\n",
       "  'fig_fullfilename': 'D:\\\\Users\\\\PP265749\\\\git\\\\PerseeGui\\\\Test_Persee\\\\formation_persee\\\\FIGURES\\\\StorageOptimalCapacitykWhOfformation_persee.png',\n",
       "  'tex_filename': 'TEXPARTS/StorageOptimalCapacitykWhOfformation_persee.tex',\n",
       "  'tex_fullfilename': 'D:\\\\Users\\\\PP265749\\\\git\\\\PerseeGui\\\\Test_Persee\\\\formation_persee\\\\TEXPARTS\\\\StorageOptimalCapacitykWhOfformation_persee.tex'},\n",
       " {'type': 'PieChart',\n",
       "  'title': 'Electrical / Thermal Storage Optimal Capacity [MWh]',\n",
       "  'search_strings': 'Storage Optimal Capacity MWh',\n",
       "  'threshold': '1',\n",
       "  'figlabel': 'FigStorageOptimalCapacityMWhOfformationpersee',\n",
       "  'fig_filename': 'FIGURES/StorageOptimalCapacityMWhOfformation_persee.png',\n",
       "  'fig_fullfilename': 'D:\\\\Users\\\\PP265749\\\\git\\\\PerseeGui\\\\Test_Persee\\\\formation_persee\\\\FIGURES\\\\StorageOptimalCapacityMWhOfformation_persee.png',\n",
       "  'tex_filename': 'TEXPARTS/StorageOptimalCapacityMWhOfformation_persee.tex',\n",
       "  'tex_fullfilename': 'D:\\\\Users\\\\PP265749\\\\git\\\\PerseeGui\\\\Test_Persee\\\\formation_persee\\\\TEXPARTS\\\\StorageOptimalCapacityMWhOfformation_persee.tex'},\n",
       " {'type': 'PieChart',\n",
       "  'title': 'Fluid Storage Optimal Capacity [kg]',\n",
       "  'search_strings': 'Storage Optimal Capacity kg',\n",
       "  'threshold': '1',\n",
       "  'figlabel': 'FigStorageOptimalCapacitykgOfformationpersee',\n",
       "  'fig_filename': 'FIGURES/StorageOptimalCapacitykgOfformation_persee.png',\n",
       "  'fig_fullfilename': 'D:\\\\Users\\\\PP265749\\\\git\\\\PerseeGui\\\\Test_Persee\\\\formation_persee\\\\FIGURES\\\\StorageOptimalCapacitykgOfformation_persee.png',\n",
       "  'tex_filename': 'TEXPARTS/StorageOptimalCapacitykgOfformation_persee.tex',\n",
       "  'tex_fullfilename': 'D:\\\\Users\\\\PP265749\\\\git\\\\PerseeGui\\\\Test_Persee\\\\formation_persee\\\\TEXPARTS\\\\StorageOptimalCapacitykgOfformation_persee.tex'},\n",
       " {'type': 'StackBarGraph',\n",
       "  'title': 'Balance of costs and incomes',\n",
       "  'search_strings': 'Total Cost',\n",
       "  'threshold': '1',\n",
       "  'figlabel': 'FigTotalCostOfformationpersee',\n",
       "  'fig_filename': 'FIGURES/TotalCostOfformation_persee.png',\n",
       "  'fig_fullfilename': 'D:\\\\Users\\\\PP265749\\\\git\\\\PerseeGui\\\\Test_Persee\\\\formation_persee\\\\FIGURES\\\\TotalCostOfformation_persee.png',\n",
       "  'tex_filename': 'TEXPARTS/TotalCostOfformation_persee.tex',\n",
       "  'tex_fullfilename': 'D:\\\\Users\\\\PP265749\\\\git\\\\PerseeGui\\\\Test_Persee\\\\formation_persee\\\\TEXPARTS\\\\TotalCostOfformation_persee.tex'},\n",
       " {'type': 'BarGraph',\n",
       "  'title': 'Component Optimal Weight PV, Wind, ...',\n",
       "  'search_strings': 'Component Optimal Weight',\n",
       "  'threshold': '1',\n",
       "  'figlabel': 'FigComponentOptimalWeightOfformationpersee',\n",
       "  'fig_filename': 'FIGURES/ComponentOptimalWeightOfformation_persee.png',\n",
       "  'fig_fullfilename': 'D:\\\\Users\\\\PP265749\\\\git\\\\PerseeGui\\\\Test_Persee\\\\formation_persee\\\\FIGURES\\\\ComponentOptimalWeightOfformation_persee.png',\n",
       "  'tex_filename': 'TEXPARTS/ComponentOptimalWeightOfformation_persee.tex',\n",
       "  'tex_fullfilename': 'D:\\\\Users\\\\PP265749\\\\git\\\\PerseeGui\\\\Test_Persee\\\\formation_persee\\\\TEXPARTS\\\\ComponentOptimalWeightOfformation_persee.tex'},\n",
       " {'type': 'BarGraph',\n",
       "  'title': 'Component Weight PV, Wind, ...',\n",
       "  'search_strings': 'Component Weight',\n",
       "  'threshold': '1',\n",
       "  'figlabel': 'FigComponentWeightOfformationpersee',\n",
       "  'fig_filename': 'FIGURES/ComponentWeightOfformation_persee.png',\n",
       "  'fig_fullfilename': 'D:\\\\Users\\\\PP265749\\\\git\\\\PerseeGui\\\\Test_Persee\\\\formation_persee\\\\FIGURES\\\\ComponentWeightOfformation_persee.png',\n",
       "  'tex_filename': 'TEXPARTS/ComponentWeightOfformation_persee.tex',\n",
       "  'tex_fullfilename': 'D:\\\\Users\\\\PP265749\\\\git\\\\PerseeGui\\\\Test_Persee\\\\formation_persee\\\\TEXPARTS\\\\ComponentWeightOfformation_persee.tex'},\n",
       " {'type': 'BarGraph',\n",
       "  'title': 'Electrical Energy balance ',\n",
       "  'search_strings': 'ElectricalEnergy',\n",
       "  'excluded_strings': 'Levelized,Converter,Mean',\n",
       "  'threshold': '1.00E+03',\n",
       "  'figlabel': 'FigElectricalEnergyOfformationpersee',\n",
       "  'fig_filename': 'FIGURES/ElectricalEnergyOfformation_persee.png',\n",
       "  'fig_fullfilename': 'D:\\\\Users\\\\PP265749\\\\git\\\\PerseeGui\\\\Test_Persee\\\\formation_persee\\\\FIGURES\\\\ElectricalEnergyOfformation_persee.png',\n",
       "  'tex_filename': 'TEXPARTS/ElectricalEnergyOfformation_persee.tex',\n",
       "  'tex_fullfilename': 'D:\\\\Users\\\\PP265749\\\\git\\\\PerseeGui\\\\Test_Persee\\\\formation_persee\\\\TEXPARTS\\\\ElectricalEnergyOfformation_persee.tex'},\n",
       " {'type': 'BarGraph',\n",
       "  'title': 'Thermal Energy balance ',\n",
       "  'search_strings': 'ThermalEnergy',\n",
       "  'excluded_strings': 'Levelized,Converter,HeatLossProdGaz,Mean',\n",
       "  'threshold': '1.00E+03',\n",
       "  'figlabel': 'FigThermalEnergyOfformationpersee',\n",
       "  'fig_filename': 'FIGURES/ThermalEnergyOfformation_persee.png',\n",
       "  'fig_fullfilename': 'D:\\\\Users\\\\PP265749\\\\git\\\\PerseeGui\\\\Test_Persee\\\\formation_persee\\\\FIGURES\\\\ThermalEnergyOfformation_persee.png',\n",
       "  'tex_filename': 'TEXPARTS/ThermalEnergyOfformation_persee.tex',\n",
       "  'tex_fullfilename': 'D:\\\\Users\\\\PP265749\\\\git\\\\PerseeGui\\\\Test_Persee\\\\formation_persee\\\\TEXPARTS\\\\ThermalEnergyOfformation_persee.tex'},\n",
       " {'type': 'BarGraph',\n",
       "  'title': 'Mean Electrical Power ',\n",
       "  'search_strings': 'Mean ElectricalPower, Mean Total ElectricalPower',\n",
       "  'excluded_strings': 'Levelized,Converter,Mean',\n",
       "  'threshold': '1',\n",
       "  'figlabel': 'FigMeanElectricalPowerOfformationpersee',\n",
       "  'fig_filename': 'FIGURES/MeanElectricalPowerOfformation_persee.png',\n",
       "  'fig_fullfilename': 'D:\\\\Users\\\\PP265749\\\\git\\\\PerseeGui\\\\Test_Persee\\\\formation_persee\\\\FIGURES\\\\MeanElectricalPowerOfformation_persee.png',\n",
       "  'tex_filename': 'TEXPARTS/MeanElectricalPowerOfformation_persee.tex',\n",
       "  'tex_fullfilename': 'D:\\\\Users\\\\PP265749\\\\git\\\\PerseeGui\\\\Test_Persee\\\\formation_persee\\\\TEXPARTS\\\\MeanElectricalPowerOfformation_persee.tex'},\n",
       " {'type': 'BarGraph',\n",
       "  'title': 'Mean Thermal Power ',\n",
       "  'search_strings': 'Mean ThermalPower, Mean Total ThermalPower',\n",
       "  'excluded_strings': 'Levelized,Converter,HeatLossProdGaz,Mean',\n",
       "  'threshold': '1',\n",
       "  'figlabel': 'FigMeanThermalPowerOfformationpersee',\n",
       "  'fig_filename': 'FIGURES/MeanThermalPowerOfformation_persee.png',\n",
       "  'fig_fullfilename': 'D:\\\\Users\\\\PP265749\\\\git\\\\PerseeGui\\\\Test_Persee\\\\formation_persee\\\\FIGURES\\\\MeanThermalPowerOfformation_persee.png',\n",
       "  'tex_filename': 'TEXPARTS/MeanThermalPowerOfformation_persee.tex',\n",
       "  'tex_fullfilename': 'D:\\\\Users\\\\PP265749\\\\git\\\\PerseeGui\\\\Test_Persee\\\\formation_persee\\\\TEXPARTS\\\\MeanThermalPowerOfformation_persee.tex'},\n",
       " {'type': 'BarGraph',\n",
       "  'title': 'Mean  Fluid Flowrate ',\n",
       "  'search_strings': 'Mean Total FluidFlowrate ',\n",
       "  'excluded_strings': 'Levelized,Converter,Mean',\n",
       "  'threshold': '1',\n",
       "  'figlabel': 'FigMeanTotalFluidFlowrateOfformationpersee',\n",
       "  'fig_filename': 'FIGURES/MeanTotalFluidFlowrateOfformation_persee.png',\n",
       "  'fig_fullfilename': 'D:\\\\Users\\\\PP265749\\\\git\\\\PerseeGui\\\\Test_Persee\\\\formation_persee\\\\FIGURES\\\\MeanTotalFluidFlowrateOfformation_persee.png',\n",
       "  'tex_filename': 'TEXPARTS/MeanTotalFluidFlowrateOfformation_persee.tex',\n",
       "  'tex_fullfilename': 'D:\\\\Users\\\\PP265749\\\\git\\\\PerseeGui\\\\Test_Persee\\\\formation_persee\\\\TEXPARTS\\\\MeanTotalFluidFlowrateOfformation_persee.tex'},\n",
       " {'type': 'BarGraph',\n",
       "  'title': 'Mean  Injection Powers to Grids ',\n",
       "  'search_strings': 'Mean injection ElectricalPower,Mean injection ThermalPower',\n",
       "  'threshold': '1',\n",
       "  'figlabel': 'FigMeaninjectionElectricalPowerOfformationpersee',\n",
       "  'fig_filename': 'FIGURES/MeaninjectionElectricalPowerOfformation_persee.png',\n",
       "  'fig_fullfilename': 'D:\\\\Users\\\\PP265749\\\\git\\\\PerseeGui\\\\Test_Persee\\\\formation_persee\\\\FIGURES\\\\MeaninjectionElectricalPowerOfformation_persee.png',\n",
       "  'tex_filename': 'TEXPARTS/MeaninjectionElectricalPowerOfformation_persee.tex',\n",
       "  'tex_fullfilename': 'D:\\\\Users\\\\PP265749\\\\git\\\\PerseeGui\\\\Test_Persee\\\\formation_persee\\\\TEXPARTS\\\\MeaninjectionElectricalPowerOfformation_persee.tex'},\n",
       " {'type': 'BarGraph',\n",
       "  'title': 'Mean  Extraction Powers from Grids ',\n",
       "  'search_strings': 'Mean extraction ElectricalPower,Mean extraction ThermalPower',\n",
       "  'threshold': '1',\n",
       "  'figlabel': 'FigMeanextractionElectricalPowerOfformationpersee',\n",
       "  'fig_filename': 'FIGURES/MeanextractionElectricalPowerOfformation_persee.png',\n",
       "  'fig_fullfilename': 'D:\\\\Users\\\\PP265749\\\\git\\\\PerseeGui\\\\Test_Persee\\\\formation_persee\\\\FIGURES\\\\MeanextractionElectricalPowerOfformation_persee.png',\n",
       "  'tex_filename': 'TEXPARTS/MeanextractionElectricalPowerOfformation_persee.tex',\n",
       "  'tex_fullfilename': 'D:\\\\Users\\\\PP265749\\\\git\\\\PerseeGui\\\\Test_Persee\\\\formation_persee\\\\TEXPARTS\\\\MeanextractionElectricalPowerOfformation_persee.tex'}]"
      ]
     },
     "execution_count": 13,
     "metadata": {},
     "output_type": "execute_result"
    }
   ],
   "source": [
    "graphProperties_list = gw.readGraphProperties(TestCase, ConfigCase, folder_report, 'config_Extract.xml')\n",
    "graphProperties_list"
   ]
  },
  {
   "cell_type": "markdown",
   "metadata": {},
   "source": [
    "### Histogramme\n",
    "\n",
    "exemple:\n",
    "``` xml\n",
    "<graph>\n",
    "\t<type>BarGraph</type>\n",
    "\t<title>Installed Optimal Size for Converters</title>\n",
    "\t<search_strings>Installed Optimal Size</search_strings>\n",
    "\t<threshold>1</threshold>\n",
    "</graph>\n",
    "```"
   ]
  },
  {
   "cell_type": "code",
   "execution_count": 14,
   "metadata": {},
   "outputs": [
    {
     "name": "stdout",
     "output_type": "stream",
     "text": [
      "projectsPath  : D:\\Users\\PP265749\\git\\PerseeGui\\Test_Persee\\formation_perseetest\n",
      "Adding liten_sty\n",
      "Adding file_confidential_png\n",
      "Generating Report:\n",
      "Does it exist ?  D:\\Users\\PP265749\\git\\PerseeGui\\Test_Persee\\formation_persee\\formation_persee_results_PLAN.csv D:\\Users\\PP265749\\git\\PerseeGui\\Test_Persee\\formation_persee formation_persee\n",
      "\n",
      "- Build graphGeneration  D:\\Users\\PP265749\\git\\PerseeGui\\Test_Persee\\formation_persee\\formation_persee_results_PLAN.csv\n",
      "Does it exist ?  D:\\Users\\PP265749\\git\\PerseeGui\\Test_Persee\\formation_persee\\formation_persee_settings.ini\n",
      "\n",
      "- Build reportGeneration  D:\\Users\\PP265749\\git\\PerseeGui\\Test_Persee\\formation_persee\\formation_persee_settings.ini\n",
      " - Writting file D:\\Users\\PP265749\\git\\PerseeGui\\Test_Persee\\formation_persee\\Settings.csv\n",
      "WARNING : no TOTAL cost found - project with null cost - it is very strange ! \n",
      "WARNING : no stackTOTAL cost found - project with null cost - it is very strange ! \n"
     ]
    }
   ],
   "source": [
    "per.ExtractResult(folder_report+\"test\", TestCase, ConfigCase, folder_report, saveStudy=0, dynamic_csv=dynamic_csv)   "
   ]
  },
  {
   "cell_type": "code",
   "execution_count": 15,
   "metadata": {
    "scrolled": true
   },
   "outputs": [
    {
     "data": {
      "text/plain": [
       "{'type': 'BarGraph',\n",
       " 'title': 'Component Weight PV, Wind, ...',\n",
       " 'search_strings': 'Component Weight',\n",
       " 'threshold': '1',\n",
       " 'figlabel': 'FigComponentWeightOfformationpersee',\n",
       " 'fig_filename': 'FIGURES/ComponentWeightOfformation_persee.png',\n",
       " 'fig_fullfilename': 'D:\\\\Users\\\\PP265749\\\\git\\\\PerseeGui\\\\Test_Persee\\\\formation_persee\\\\FIGURES\\\\ComponentWeightOfformation_persee.png',\n",
       " 'tex_filename': 'TEXPARTS/ComponentWeightOfformation_persee.tex',\n",
       " 'tex_fullfilename': 'D:\\\\Users\\\\PP265749\\\\git\\\\PerseeGui\\\\Test_Persee\\\\formation_persee\\\\TEXPARTS\\\\ComponentWeightOfformation_persee.tex'}"
      ]
     },
     "execution_count": 15,
     "metadata": {},
     "output_type": "execute_result"
    }
   ],
   "source": [
    "graphProperties_list[10]"
   ]
  },
  {
   "cell_type": "code",
   "execution_count": 16,
   "metadata": {},
   "outputs": [
    {
     "name": "stdout",
     "output_type": "stream",
     "text": [
      " - Writting file D:\\Users\\PP265749\\git\\PerseeGui\\Test_Persee\\formation_persee\\formation_persee_results_PLAN.csv including contributions of  ['Component Weight']  excluding  []\n",
      "- Label list is void for  ['Component Weight']\n"
     ]
    }
   ],
   "source": [
    "per.graphGeneration(TestCase, ConfigCase, file_name, dynamic_csv, folder_report, file_name, [graphProperties_list[10]])"
   ]
  },
  {
   "cell_type": "markdown",
   "metadata": {},
   "source": [
    "\n",
    "**StackBarGraph**"
   ]
  },
  {
   "cell_type": "markdown",
   "metadata": {},
   "source": [
    "### Camembert (pie chart)"
   ]
  },
  {
   "cell_type": "code",
   "execution_count": null,
   "metadata": {},
   "outputs": [],
   "source": []
  },
  {
   "cell_type": "code",
   "execution_count": 48,
   "metadata": {},
   "outputs": [
    {
     "name": "stdout",
     "output_type": "stream",
     "text": [
      " - Writting file D:\\Users\\PP265749\\git\\PerseeGui\\Test_Persee\\formation_persee\\Settings.csv\n",
      "WARNING : no TOTAL cost found - project with null cost - it is very strange ! \n",
      "WARNING : no stackTOTAL cost found - project with null cost - it is very strange ! \n"
     ]
    }
   ],
   "source": [
    "#per.graphGeneration(TestCase, \"\", file_name, dynamic_csv, folder_report, sumup_name, graphProperties_list)\n",
    "#ExtractResult(folder_report+\"test\", TestCase, ConfigCase, folder_report+\"truiou\", saveStudy=0, dynamic_csv=dynamic_csv)   \n",
    "per.reportGeneration2(TestCase, \"\", file_ini_name,file_name ,folder_report, graphProperties_list)\n",
    "#per.reportGeneration(TestCase, \"test\", file_name, folder_report, graphProperties_list)\n"
   ]
  },
  {
   "cell_type": "code",
   "execution_count": null,
   "metadata": {},
   "outputs": [],
   "source": []
  }
 ],
 "metadata": {
  "kernelspec": {
   "display_name": "Python 3",
   "language": "python",
   "name": "python3"
  },
  "language_info": {
   "codemirror_mode": {
    "name": "ipython",
    "version": 3
   },
   "file_extension": ".py",
   "mimetype": "text/x-python",
   "name": "python",
   "nbconvert_exporter": "python",
   "pygments_lexer": "ipython3",
   "version": "3.7.6"
  },
  "toc": {
   "base_numbering": 1,
   "nav_menu": {},
   "number_sections": true,
   "sideBar": true,
   "skip_h1_title": false,
   "title_cell": "Table of Contents",
   "title_sidebar": "Contents",
   "toc_cell": false,
   "toc_position": {},
   "toc_section_display": true,
   "toc_window_display": true
  }
 },
 "nbformat": 4,
 "nbformat_minor": 4
}
